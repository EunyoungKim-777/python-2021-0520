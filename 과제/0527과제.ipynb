{
 "metadata": {
  "language_info": {
   "codemirror_mode": {
    "name": "ipython",
    "version": 3
   },
   "file_extension": ".py",
   "mimetype": "text/x-python",
   "name": "python",
   "nbconvert_exporter": "python",
   "pygments_lexer": "ipython3",
   "version": "3.6.10"
  },
  "orig_nbformat": 2,
  "kernelspec": {
   "name": "python3610jvsc74a57bd045bb9909f4134a5c522dd73f5b26e0da33d17d4f62f0476a1f9dbaaf4e2522a5",
   "display_name": "Python 3.6.10 64-bit ('base': conda)"
  }
 },
 "nbformat": 4,
 "nbformat_minor": 2,
 "cells": [
  {
   "source": [
    "# Unit 13~18 심사문제"
   ],
   "cell_type": "markdown",
   "metadata": {}
  },
  {
   "source": [
    "## #1. 13.7 심사문제: 온라인 할인 쿠폰 시스템 만들기"
   ],
   "cell_type": "markdown",
   "metadata": {}
  },
  {
   "cell_type": "code",
   "execution_count": null,
   "metadata": {},
   "outputs": [],
   "source": [
    "# 표준 입력으로 가격(정수)과 쿠폰 이름이 각 줄에 입력됩니다. Cash3000 쿠폰은 3,000원, Cash5000 쿠폰은 5,000원을 할인합니다. 쿠폰에 따라 할인된 가격을 출력하는 프로그램을 만드세요(input에서 안내 문자열은 출력하지 않아야 합니다).\n",
    "#예\n",
    "#입력\n",
    "#72000\n",
    "#Cash5000\n",
    "#결과\n",
    "#67000"
   ]
  },
  {
   "cell_type": "code",
   "execution_count": 8,
   "metadata": {},
   "outputs": [
    {
     "output_type": "stream",
     "name": "stdout",
     "text": [
      "67000\n"
     ]
    }
   ],
   "source": [
    "# 풀이\n",
    "price = int(input())\n",
    "coupon = str(input())\n",
    "if coupon == \"Cash3000\":\n",
    "    print (price-3000)\n",
    "else:\n",
    "    print (price-5000)\n"
   ]
  },
  {
   "source": [
    "## #2. 14.7 심사문제: 합격 여부 판단하기"
   ],
   "cell_type": "markdown",
   "metadata": {}
  },
  {
   "cell_type": "code",
   "execution_count": null,
   "metadata": {},
   "outputs": [],
   "source": [
    "# 표준 입력으로 국어, 영어, 수학, 과학 점수가 입력됩니다. 여기서 네 과목의 평균 점수가 80점 이상일 때 합격이라고 정했습니다. 평균 점수에 따라 '합격', '불합격'을 출력하는 프로그램을 만드세요(input에서 안내 문자열은 출력하지 않아야 합니다). 단, 점수는 0점부터 100점까지만 입력받을 수 있으며 범위를 벗어났다면 '잘못된 점수'를 출력하고 합격, 불합격 여부는 출력하지 않아야 합니다.\n",
    "# 예)\n",
    "# 입력 89 72 93 82     결과 합격\n",
    "# 입력 100 79 68 71    결과 불합격\n",
    "# 입력 99 85 101 90    결과 잘못된 점수"
   ]
  },
  {
   "cell_type": "code",
   "execution_count": 20,
   "metadata": {},
   "outputs": [
    {
     "output_type": "stream",
     "name": "stdout",
     "text": [
      "잘못된 점수\n"
     ]
    }
   ],
   "source": [
    "# 풀이\n",
    "k, e, m, s= map(int, input().split())\n",
    "avg = (k+e+m+s)/4 \n",
    "\n",
    "if 0 <= k <= 100 and 0 <= e <= 100 and 0 <= m <= 100 and 0 <= s <= 100:\n",
    "    if avg >= 80: print(\"합격\")\n",
    "    else: print(\"불합격\")\n",
    "else: print (\"잘못된 점수\")\n",
    "       "
   ]
  },
  {
   "source": [
    "## #3. 15.4 심사문제: 교통카드 시스템 만들기"
   ],
   "cell_type": "markdown",
   "metadata": {}
  },
  {
   "cell_type": "code",
   "execution_count": null,
   "metadata": {},
   "outputs": [],
   "source": [
    "# 표준 입력으로 나이(만 나이)가 입력됩니다(입력 값은 7 이상 입력됨). 교통카드 시스템에서 시내버스 요금은 다음과 같으며 각 나이에 맞게 요금을 차감한 뒤 잔액이 출력되게 만드세요(if, elif 사용). 현재 교통카드에는 9,000원이 들어있습니다.\n",
    "\n",
    "- 어린이(초등학생, 만 7세 이상 12세 이하): 650원\n",
    "- 청소년(중∙고등학생, 만 13세 이상 18세 이하): 1,050원\n",
    "- 어른(일반, 만 19세 이상): 1,250원\n",
    "\n",
    "# 예)\n",
    "# 입력 17    결과 7950\n",
    "# 입력 12    결과 8350"
   ]
  },
  {
   "cell_type": "code",
   "execution_count": 23,
   "metadata": {},
   "outputs": [
    {
     "output_type": "stream",
     "name": "stdout",
     "text": [
      "8350\n"
     ]
    }
   ],
   "source": [
    "# 풀이\n",
    "age = int(input())\n",
    "balance = 9000    # 교통카드 잔액\n",
    "\n",
    "if 7 <= age <= 12 : balance-=650\n",
    "elif 13 <= age <= 18 : balance-=1050\n",
    "elif age >= 19 : balance-=1250\n",
    "\n",
    "print(balance)"
   ]
  },
  {
   "cell_type": "code",
   "execution_count": null,
   "metadata": {},
   "outputs": [],
   "source": []
  },
  {
   "source": [
    "## #4. 16.6 심사문제: 구구단 출력하기"
   ],
   "cell_type": "markdown",
   "metadata": {}
  },
  {
   "cell_type": "code",
   "execution_count": null,
   "metadata": {},
   "outputs": [],
   "source": [
    "# 표준 입력으로 정수가 입력됩니다. 입력된 정수의 구구단을 출력하는 프로그램을 만드세요(input에서 안내 문자열은 출력하지 않아야 합니다). 출력 형식은 숫자 * 숫자 = 숫자처럼 만들고 숫자와 *, = 사이는 공백을 한 칸 띄웁니다.\n",
    "\n",
    "# 예\n",
    "# 입력\n",
    "# 2\n",
    "# 결과\n",
    "# 2 * 1 = 2\n",
    "# 2 * 2 = 4\n",
    "# 2 * 3 = 6\n",
    "# 2 * 4 = 8\n",
    "# 2 * 5 = 10\n",
    "# 2 * 6 = 12\n",
    "# 2 * 7 = 14\n",
    "# 2 * 8 = 16\n",
    "# 2 * 9 = 18\n",
    "# 입력\n",
    "# 7\n",
    "# 결과\n",
    "# 7 * 1 = 7\n",
    "# 7 * 2 = 14\n",
    "# 7 * 3 = 21\n",
    "# 7 * 4 = 28\n",
    "# 7 * 5 = 35\n",
    "# 7 * 6 = 42\n",
    "# 7 * 7 = 49\n",
    "# 7 * 8 = 56\n",
    "# 7 * 9 = 63"
   ]
  },
  {
   "cell_type": "code",
   "execution_count": 25,
   "metadata": {},
   "outputs": [
    {
     "output_type": "stream",
     "name": "stdout",
     "text": [
      "7 * 1 = 7\n7 * 2 = 14\n7 * 3 = 21\n7 * 4 = 28\n7 * 5 = 35\n7 * 6 = 42\n7 * 7 = 49\n7 * 8 = 56\n7 * 9 = 63\n"
     ]
    }
   ],
   "source": [
    "# 풀이\n",
    "n = int(input())\n",
    "for i in range(1,10):\n",
    "    print(f'{n} * {i} = {n*i}')"
   ]
  },
  {
   "source": [
    "## #5. 17.6 심사문제: 교통카드 잔액 출력하기"
   ],
   "cell_type": "markdown",
   "metadata": {}
  },
  {
   "cell_type": "code",
   "execution_count": null,
   "metadata": {},
   "outputs": [],
   "source": [
    "# 표준 입력으로 금액(정수)이 입력됩니다. 1회당 요금은 1,350원이고, 교통카드를 사용했을 때마다의 잔액을 각 줄에 출력하는 프로그램을 만드세요(input에서 안내 문자열은 출력하지 않아야 합니다). 단, 최초 금액은 출력하지 않아야 합니다. 그리고 잔액은 음수가 될 수 없으며 잔액이 부족하면 출력을 끝냅니다.\n",
    "# 예\n",
    "# 입력\n",
    "# 10000\n",
    "# 결과\n",
    "# 8650\n",
    "# 7300\n",
    "# 5950\n",
    "# 4600\n",
    "# 3250\n",
    "# 1900\n",
    "# 550\n",
    "# 입력\n",
    "# 13500\n",
    "# 결과\n",
    "# 12150\n",
    "# 10800\n",
    "# 9450\n",
    "# 8100\n",
    "# 6750\n",
    "# 5400\n",
    "# 4050\n",
    "# 2700\n",
    "# 1350\n",
    "# 0"
   ]
  },
  {
   "cell_type": "code",
   "execution_count": 27,
   "metadata": {},
   "outputs": [
    {
     "output_type": "stream",
     "name": "stdout",
     "text": [
      "12150\n10800\n9450\n8100\n6750\n5400\n4050\n2700\n1350\n0\n"
     ]
    }
   ],
   "source": [
    "# 풀이\n",
    "num = int(input())\n",
    "while num >= 1350:\n",
    "    num -= 1350\n",
    "    print (num)"
   ]
  },
  {
   "source": [
    "## #6. 18.6 심사문제: 두 수 사이의 숫자 중 3으로 끝나지 않는 숫자 출력하기"
   ],
   "cell_type": "markdown",
   "metadata": {}
  },
  {
   "cell_type": "code",
   "execution_count": null,
   "metadata": {},
   "outputs": [],
   "source": [
    "# 표준 입력으로 정수 두 개가 입력됩니다(첫 번째 입력 값의 범위는 1~200, 두 번째 입력 값의 범위는 10~200이며 첫 번째 입력 값은 두 번째 입력 값보다 항상 작습니다). 다음 소스 코드를 완성하여 첫 번째 정수와 두 번째 정수 사이의 숫자 중 3으로 끝나지 않는 숫자가 출력되게 만드세요. 정답에 코드를 작성할 때는 while True:에 맞춰서 들여쓰기를 해주세요.\n",
    "# 예\n",
    "# 입력\n",
    "# 1 20\n",
    "# 결과\n",
    "# 1 2 4 5 6 7 8 9 10 11 12 14 15 16 17 18 19 20\n",
    "# 입력\n",
    "# 21 33\n",
    "# 결과\n",
    "# 21 22 24 25 26 27 28 29 30 31 32"
   ]
  },
  {
   "cell_type": "code",
   "execution_count": 6,
   "metadata": {},
   "outputs": [
    {
     "output_type": "stream",
     "name": "stdout",
     "text": [
      "1 2 4 5 6 7 8 9 10 11 12 14 15 16 17 18 19 20 "
     ]
    }
   ],
   "source": [
    "#  풀이\n",
    "start, stop = map(int, input().split())\n",
    " \n",
    "i = start\n",
    " \n",
    "while True:\n",
    "    if i % 10 == 3:\n",
    "        i += 1\n",
    "        continue   # 반복문 안에서 continue를 실행하면 continue 아래의 코드는 실행하지 않고 건너뛴 뒤 다음 반복을 시작\n",
    "\n",
    "    if i > stop:\n",
    "        break\n",
    "\n",
    "    print(i, end=' ')   #end는 줄바꿈 하지 않도록 해줌\n",
    "    i += 1"
   ]
  }
 ]
}