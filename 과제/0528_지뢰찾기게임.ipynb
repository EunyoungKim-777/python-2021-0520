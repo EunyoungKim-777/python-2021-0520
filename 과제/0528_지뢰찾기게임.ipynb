{
 "metadata": {
  "language_info": {
   "codemirror_mode": {
    "name": "ipython",
    "version": 3
   },
   "file_extension": ".py",
   "mimetype": "text/x-python",
   "name": "python",
   "nbconvert_exporter": "python",
   "pygments_lexer": "ipython3",
   "version": "3.6.10"
  },
  "orig_nbformat": 2,
  "kernelspec": {
   "name": "python3610jvsc74a57bd045bb9909f4134a5c522dd73f5b26e0da33d17d4f62f0476a1f9dbaaf4e2522a5",
   "display_name": "Python 3.6.10 64-bit ('base': conda)"
  }
 },
 "nbformat": 4,
 "nbformat_minor": 2,
 "cells": [
  {
   "cell_type": "code",
   "execution_count": 15,
   "metadata": {},
   "outputs": [
    {
     "output_type": "stream",
     "name": "stdout",
     "text": [
      "1 1 0 1 1 0 \n0 0 1 1 1 0 \n0 1 0 0 1 1 \n0 0 1 1 1 1 \n1 1 1 0 1 0 \n0 1 0 0 0 1 \n"
     ]
    }
   ],
   "source": [
    "row, col = map(int, input().split())\n",
    "\n",
    "import random\n",
    "mine = [[0 if random.random() < 0.65 else 1 for _ in range(row)]\n",
    "                                  for _ in range(col)]\n",
    "\n",
    "for i in mine:        \n",
    "    for j in i:      \n",
    "        print(j, end=' ')\n",
    "    print() \n",
    "       "
   ]
  },
  {
   "cell_type": "code",
   "execution_count": 56,
   "metadata": {},
   "outputs": [
    {
     "output_type": "stream",
     "name": "stdout",
     "text": [
      "1 0 0 0\n1 1 0 0\n0 1 1 1\n0 0 0 0\n"
     ]
    }
   ],
   "source": [
    "## 참고- 출력방법 1\n",
    "for x,y,z,w in mine: # 리스트의 가로 한 줄(안쪽 리스트)에서 요소 두 개를 꺼냄\n",
    "    print(x,y,z,w)"
   ]
  },
  {
   "cell_type": "code",
   "execution_count": 57,
   "metadata": {},
   "outputs": [
    {
     "output_type": "stream",
     "name": "stdout",
     "text": [
      "1 0 0 0 \n1 1 0 0 \n0 1 1 1 \n0 0 0 0 \n"
     ]
    }
   ],
   "source": [
    "# 참고- 출력방법 2\n",
    "for i in mine:        # mine에서 안쪽 리스트를 꺼냄\n",
    "    for j in i:      # 안쪽 리스트에서 요소를 하나씩 꺼냄\n",
    "        print(j, end=' ')\n",
    "    print()         # print()하면 줄을 띄어서 출력 "
   ]
  },
  {
   "cell_type": "code",
   "execution_count": null,
   "metadata": {},
   "outputs": [],
   "source": [
    "#     0열 1열 2열 3열 ...\n",
    "# 0행 \n",
    "# 1행\n",
    "# 2행\n",
    "# 3행\n",
    "# ..."
   ]
  },
  {
   "cell_type": "code",
   "execution_count": null,
   "metadata": {},
   "outputs": [],
   "source": [
    "# (i-1,j+1)  (i,j+1)  (i+1,j+1)\n",
    "#  (i-1,j)    (i,j)    (i+1,j) \n",
    "# (i-1,j-1)  (i,j-1)  (i+1,j-1)"
   ]
  },
  {
   "cell_type": "code",
   "execution_count": 16,
   "metadata": {},
   "outputs": [
    {
     "output_type": "stream",
     "name": "stdout",
     "text": [
      "# # 4 # # 2 \n3 4 # # # 4 \n1 # 5 7 # # \n3 5 # # # # \n# # # 5 # 4 \n3 # 3 2 2 # \n"
     ]
    }
   ],
   "source": [
    "for i in range(row):\n",
    "    for j in range(col):\n",
    "        \n",
    "        if mine[i][j] == 1:\n",
    "            print ('#', end = ' ')\n",
    "        \n",
    "        else:\n",
    "            m_cnt=0\n",
    "            for x in range(i-1, i+2):           # i-1, i, i+1\n",
    "                for y in range(j-1, j+2):       # j-1, j, j+1\n",
    "                    if 0<=x<=row-1  and 0<=y<=col-1 and mine[x][y] == 1:\n",
    "                        m_cnt += 1      \n",
    "            print(m_cnt, end = ' ')\n",
    "   \n",
    "    print()"
   ]
  },
  {
   "cell_type": "code",
   "execution_count": null,
   "metadata": {},
   "outputs": [],
   "source": [
    "############################################################################"
   ]
  },
  {
   "cell_type": "code",
   "execution_count": 17,
   "metadata": {},
   "outputs": [],
   "source": [
    "# 지뢰찾기 게임 함수 만들기\n",
    "\n",
    "def game(m,r,c):\n",
    "    for i in range(r):\n",
    "        for j in range(c):\n",
    "            \n",
    "            if mine[i][j] == 1:\n",
    "                print ('#', end = ' ')\n",
    "            \n",
    "            else:\n",
    "                m_cnt=0\n",
    "                for x in range(i-1, i+2):           # i-1, i, i+1\n",
    "                    for y in range(j-1, j+2):       # j-1, j, j+1\n",
    "                        if 0<=x<=r-1  and 0<=y<=c-1 and mine[x][y] == 1:\n",
    "                            m_cnt += 1      \n",
    "                print(m_cnt, end = ' ')\n",
    "    \n",
    "        print()"
   ]
  },
  {
   "cell_type": "code",
   "execution_count": 42,
   "metadata": {},
   "outputs": [],
   "source": [
    "# 행, 열 개수 정하고 mine 2차원 리스트 생성하기\n",
    "# random() 함수는 0부터 1사이의 랜덤 실수를 리턴\n",
    "\n",
    "import random\n",
    "row, col = map(int, input().split())\n",
    "\n",
    "mine = [[0 if random.random() < 0.65 else 1 for _ in range(row)]  for _ in range(col)]"
   ]
  },
  {
   "cell_type": "code",
   "execution_count": 29,
   "metadata": {},
   "outputs": [
    {
     "output_type": "stream",
     "name": "stdout",
     "text": [
      "\n"
     ]
    }
   ],
   "source": [
    "## [참고] \n",
    "## mine = [[0 if random.random() < 0.65 else 1 for _ in range(row)]  for _ in range(col)] 이렇게 3항 연산자로 쓰여진 이 부분을 풀어서 쓰려면?!?\n",
    "\n",
    "mine=[]     # 전체 2차원 리스트\n",
    "for _ in range(4):\n",
    "    line = []      # 행 리스트 만들기\n",
    "    for _ in range(4):\n",
    "        if random.random() < 0.65: \n",
    "            line.append(0)\n",
    "        else:\n",
    "            line.append(1)\n",
    "    mine.append(line)\n",
    "print()\n",
    "        "
   ]
  },
  {
   "cell_type": "code",
   "execution_count": 18,
   "metadata": {},
   "outputs": [
    {
     "output_type": "stream",
     "name": "stdout",
     "text": [
      "# # 4 # # 2 \n3 4 # # # 4 \n1 # 5 7 # # \n3 5 # # # # \n# # # 5 # 4 \n3 # 3 2 2 # \n"
     ]
    }
   ],
   "source": [
    "game(mine,row,col)"
   ]
  },
  {
   "cell_type": "code",
   "execution_count": null,
   "metadata": {},
   "outputs": [],
   "source": []
  },
  {
   "cell_type": "code",
   "execution_count": 35,
   "metadata": {},
   "outputs": [],
   "source": [
    "# 선생님 풀이\n",
    "def print_matrix(m):\n",
    "    for i in range(len(m)):\n",
    "        for k in range(len(m)):\n",
    "            print(m[i][k], end=' ')\n",
    "        print()"
   ]
  },
  {
   "cell_type": "code",
   "execution_count": 36,
   "metadata": {},
   "outputs": [],
   "source": [
    "def m2p(m):\n",
    "    p = []\n",
    "    p.append([0]*(len(m)+2))\n",
    "    for row in m:\n",
    "        r = [0]\n",
    "        #for element in row:\n",
    "        #    r.append(element)\n",
    "        r.extend(row)\n",
    "        r.append(0)\n",
    "        p.append(r)\n",
    "    p.append([0]*(len(m)+2))\n",
    "    return p"
   ]
  },
  {
   "cell_type": "code",
   "execution_count": 37,
   "metadata": {},
   "outputs": [],
   "source": [
    "def count_mine(p, i, k):\n",
    "    if p[i][k] == 1:\n",
    "        return '*'\n",
    "    count = p[i-1][k-1] + p[i-1][k] + p[i-1][k+1] + \\\n",
    "            p[i][k-1] +               p[i][k+1] + \\\n",
    "            p[i+1][k-1] + p[i+1][k] + p[i+1][k+1]\n",
    "    return count"
   ]
  },
  {
   "cell_type": "code",
   "execution_count": null,
   "metadata": {},
   "outputs": [],
   "source": [
    "# 이렇게도 쓸 수 있을듯--다시하기\n",
    "def count_mine(p, i, k):\n",
    "    if p[i][k] == 1:\n",
    "        return '*'\n",
    "    else:\n",
    "        for a in range(i-1,i+2):\n",
    "            for b in range(k-1,k+2):\n",
    "                count=sum(p[a][b])\n",
    "    # count = p[i-1][k-1] + p[i-1][k] + p[i-1][k+1] + \\\n",
    "    #         p[i][k-1] +               p[i][k+1] + \\\n",
    "    #         p[i+1][k-1] + p[i+1][k] + p[i+1][k+1]\n",
    "    return count"
   ]
  },
  {
   "cell_type": "code",
   "execution_count": 54,
   "metadata": {},
   "outputs": [
    {
     "output_type": "execute_result",
     "data": {
      "text/plain": [
       "0"
      ]
     },
     "metadata": {},
     "execution_count": 54
    }
   ],
   "source": [
    "count_mine(mine, 3, 3)"
   ]
  },
  {
   "cell_type": "code",
   "execution_count": 38,
   "metadata": {},
   "outputs": [
    {
     "output_type": "stream",
     "name": "stdout",
     "text": [
      "0 1 0 0 0 0 \n1 0 0 0 0 0 \n0 0 0 1 1 0 \n0 0 0 1 0 0 \n1 0 0 1 0 0 \n0 0 0 0 0 0 \n"
     ]
    }
   ],
   "source": [
    "import random\n",
    "mine_len = 6\n",
    "mine = [[0 if random.random() < 0.7 else 1 for _ in range(mine_len)]\n",
    "                                        for _ in range(mine_len)]\n",
    "print_matrix(mine)"
   ]
  },
  {
   "cell_type": "code",
   "execution_count": 39,
   "metadata": {},
   "outputs": [
    {
     "output_type": "stream",
     "name": "stdout",
     "text": [
      "0 0 0 0 0 0 0 0 \n0 0 1 0 0 0 0 0 \n0 1 0 0 0 0 0 0 \n0 0 0 0 1 1 0 0 \n0 0 0 0 1 0 0 0 \n0 1 0 0 1 0 0 0 \n0 0 0 0 0 0 0 0 \n0 0 0 0 0 0 0 0 \n"
     ]
    }
   ],
   "source": [
    "padding = m2p(mine)\n",
    "print_matrix(padding)"
   ]
  },
  {
   "cell_type": "code",
   "execution_count": 40,
   "metadata": {},
   "outputs": [],
   "source": [
    "answer = []\n",
    "for row in range(1, mine_len+1):\n",
    "    line = []\n",
    "    for col in range(1, mine_len+1):\n",
    "        line.append(count_mine(padding, row, col))\n",
    "    answer.append(line)"
   ]
  },
  {
   "cell_type": "code",
   "execution_count": 41,
   "metadata": {},
   "outputs": [
    {
     "output_type": "stream",
     "name": "stdout",
     "text": [
      "2 * 1 0 0 0 \n* 2 2 2 2 1 \n1 1 2 * * 1 \n1 1 3 * 4 1 \n* 1 2 * 2 0 \n1 1 1 1 1 0 \n"
     ]
    }
   ],
   "source": [
    "print_matrix(answer)"
   ]
  }
 ]
}