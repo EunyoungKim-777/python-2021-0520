{
 "metadata": {
  "language_info": {
   "codemirror_mode": {
    "name": "ipython",
    "version": 3
   },
   "file_extension": ".py",
   "mimetype": "text/x-python",
   "name": "python",
   "nbconvert_exporter": "python",
   "pygments_lexer": "ipython3",
   "version": "3.6.10"
  },
  "orig_nbformat": 2,
  "kernelspec": {
   "name": "python3610jvsc74a57bd045bb9909f4134a5c522dd73f5b26e0da33d17d4f62f0476a1f9dbaaf4e2522a5",
   "display_name": "Python 3.6.10 64-bit ('base': conda)"
  }
 },
 "nbformat": 4,
 "nbformat_minor": 2,
 "cells": [
  {
   "cell_type": "code",
   "execution_count": 55,
   "metadata": {},
   "outputs": [
    {
     "output_type": "stream",
     "name": "stdout",
     "text": [
      "1 0 0 0\n1 1 0 0\n0 1 1 1\n0 0 0 0\n"
     ]
    }
   ],
   "source": [
    "import random\n",
    "mine = [[0 if random.random() < 0.65 else 1 for _ in range(4)]\n",
    "                                  for _ in range(4)]\n",
    "for x,y,z,w in mine: # 리스트의 가로 한 줄(안쪽 리스트)에서 요소 두 개를 꺼냄\n",
    "    print(x,y,z,w)\n",
    "                              "
   ]
  },
  {
   "cell_type": "code",
   "execution_count": 56,
   "metadata": {},
   "outputs": [
    {
     "output_type": "stream",
     "name": "stdout",
     "text": [
      "1 0 0 0\n1 1 0 0\n0 1 1 1\n0 0 0 0\n"
     ]
    }
   ],
   "source": [
    "# 방법 1\n",
    "for x,y,z,w in mine: # 리스트의 가로 한 줄(안쪽 리스트)에서 요소 두 개를 꺼냄\n",
    "    print(x,y,z,w)"
   ]
  },
  {
   "cell_type": "code",
   "execution_count": 57,
   "metadata": {},
   "outputs": [
    {
     "output_type": "stream",
     "name": "stdout",
     "text": [
      "1 0 0 0 \n1 1 0 0 \n0 1 1 1 \n0 0 0 0 \n"
     ]
    }
   ],
   "source": [
    "# 방법 2\n",
    "for i in mine:        # mine에서 안쪽 리스트를 꺼냄\n",
    "    for j in i:      # 안쪽 리스트에서 요소를 하나씩 꺼냄\n",
    "        print(j, end=' ')\n",
    "    print()         # print()하면 줄을 띄어서 출력 "
   ]
  },
  {
   "cell_type": "code",
   "execution_count": null,
   "metadata": {},
   "outputs": [],
   "source": [
    "#     0열 1열 2열 3열\n",
    "# 0행 \n",
    "# 1행\n",
    "# 2행\n",
    "# 3행"
   ]
  },
  {
   "cell_type": "code",
   "execution_count": null,
   "metadata": {},
   "outputs": [],
   "source": [
    "# (i-1,j+1)  (i,j+1)  (i+1,j+1)\n",
    "#  (i-1,j)    (i,j)    (i+1,j) \n",
    "# (i-1,j-1)  (i,j-1)  (i+1,j-1)"
   ]
  },
  {
   "cell_type": "code",
   "execution_count": 58,
   "metadata": {},
   "outputs": [
    {
     "output_type": "stream",
     "name": "stdout",
     "text": [
      "# 3 1 0 \n# # 4 2 \n3 # # # \n1 2 3 2 \n"
     ]
    }
   ],
   "source": [
    "for i in range(4):\n",
    "    for j in range(4):\n",
    "        \n",
    "        if mine[i][j] == 1:\n",
    "            print ('#', end = ' ')\n",
    "        \n",
    "        else:\n",
    "            m_cnt=0\n",
    "            for x in range(i-1, i+2):           # i-1, i, i+1\n",
    "                for y in range(j-1, j+2):       # j-1, j, j+1\n",
    "                    if 0 <= x <= 3  and 0 <= y <= 3 and mine[x][y] == 1:\n",
    "                        m_cnt += 1      \n",
    "            print(m_cnt, end = ' ')\n",
    "   \n",
    "    print()"
   ]
  }
 ]
}