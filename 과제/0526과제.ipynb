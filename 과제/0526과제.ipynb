{
 "metadata": {
  "language_info": {
   "codemirror_mode": {
    "name": "ipython",
    "version": 3
   },
   "file_extension": ".py",
   "mimetype": "text/x-python",
   "name": "python",
   "nbconvert_exporter": "python",
   "pygments_lexer": "ipython3",
   "version": "3.6.10"
  },
  "orig_nbformat": 2,
  "kernelspec": {
   "name": "python3610jvsc74a57bd045bb9909f4134a5c522dd73f5b26e0da33d17d4f62f0476a1f9dbaaf4e2522a5",
   "display_name": "Python 3.6.10 64-bit ('base': conda)"
  }
 },
 "nbformat": 4,
 "nbformat_minor": 2,
 "cells": [
  {
   "source": [
    "# 0526 과제"
   ],
   "cell_type": "markdown",
   "metadata": {}
  },
  {
   "source": [
    "## #1. 시저 암호"
   ],
   "cell_type": "markdown",
   "metadata": {}
  },
  {
   "source": [
    "- 시저 암호는, 고대 로마의 황제 줄리어스 시저가 만들어 낸 암호인데, 알파벳 A를 입력했을 때, 그 알파벳의 n개 뒤에 오는 알파벳이 출력되는 것이다. 예를 들어 바꾸려는 단어가 \"CAT\"이고, n을 5로 지정하였을 때 \"HFY\"가 되는 것이다. 어떠한 암호를 만들 문장과 n을 입력했을 때 암호를 만들어 출력하는 프로그램을 작성하시오. "
   ],
   "cell_type": "markdown",
   "metadata": {}
  },
  {
   "cell_type": "code",
   "execution_count": 70,
   "metadata": {},
   "outputs": [
    {
     "output_type": "stream",
     "name": "stdout",
     "text": [
      "H F Y\n"
     ]
    }
   ],
   "source": [
    "#풀이-대문자만 받는 경우 \n",
    "def c_func1(s, n):      #시저 함수 정의하기  \n",
    "    s = list(s)        #리스트로 변환\n",
    "\n",
    "    for i in range(len(s)):     \n",
    "        s[i] = chr( (ord(s[i]) - ord('A') + n) %26 + ord('A') )  \n",
    "        # A로부터 떨어진 거리에 이동시킬 만큼 n을 더하자\n",
    "        # 알파벳이 26글자이므로 순환을 고려하여 26으로 나눈 나머지 이용\n",
    "        # 첫 알파벳 A에 이 나머지 값을 더해서 해당 문자의 아스키 코드 구하기\n",
    "        #  chr() 함수 이용하여 아스키 코드 -> 문자로 반환\n",
    "     \n",
    "    return \" \".join(s)\n",
    "\n",
    "s = input('단어를 입력하세요: ')\n",
    "n = int(input('원하는 n값을 입력하세요: '))\n",
    "\n",
    "print(c_func1(s,n)) "
   ]
  },
  {
   "cell_type": "code",
   "execution_count": null,
   "metadata": {},
   "outputs": [],
   "source": []
  },
  {
   "cell_type": "code",
   "execution_count": 68,
   "metadata": {},
   "outputs": [
    {
     "output_type": "stream",
     "name": "stdout",
     "text": [
      "ayr\n"
     ]
    }
   ],
   "source": [
    "def c_func2(s, n):      # 시저 함수 정의하기  \n",
    "    s = list(s)        # 리스트로 변환\n",
    "\n",
    "    for i in range(len(s)):\n",
    "        if s[i].isupper():      #대문자일 경우\n",
    "            s[i] = chr( (ord(s[i]) - ord('A') + n)%26 + ord('A') )  \n",
    "            # A로부터 떨어진 거리 구한 후 이동시킬 만큼 n을 더하자\n",
    "            # 알파벳이 26글자이므로 순환을 고려하여 26으로 나눈 나머지 이용\n",
    "        elif s[i].islower():    #소문자일 경우\n",
    "            s[i] = chr( (ord(s[i]) - ord('a') + n)%26 + ord('a') )\n",
    " \n",
    "    return \" \".join(s)\n",
    "\n",
    "s = input('단어를 입력하세요: ')\n",
    "n = int(input('원하는 n값을 입력하세요: '))\n",
    "\n",
    "print(c_func2(s,n)) "
   ]
  },
  {
   "cell_type": "code",
   "execution_count": null,
   "metadata": {},
   "outputs": [],
   "source": [
    "#선생님 풀이\n",
    "def encode(s,n)\n",
    "    cipher = ''\n",
    "    for i in s:\n",
    "        diff = ord(i) - ord('A') + n\n",
    "        if diff < 26: cipher += chr((diff + ord('A'))\n",
    "        else: cipher += chr(diff%26 + ord('A'))\n",
    "return cipher"
   ]
  },
  {
   "cell_type": "code",
   "execution_count": 63,
   "metadata": {},
   "outputs": [
    {
     "output_type": "execute_result",
     "data": {
      "text/plain": [
       "65"
      ]
     },
     "metadata": {},
     "execution_count": 63
    }
   ],
   "source": [
    "ord('A')"
   ]
  },
  {
   "cell_type": "code",
   "execution_count": 3,
   "metadata": {},
   "outputs": [
    {
     "output_type": "execute_result",
     "data": {
      "text/plain": [
       "(66, 69)"
      ]
     },
     "metadata": {},
     "execution_count": 3
    }
   ],
   "source": [
    "ord('B'),ord ('E')"
   ]
  },
  {
   "cell_type": "code",
   "execution_count": 66,
   "metadata": {},
   "outputs": [
    {
     "output_type": "execute_result",
     "data": {
      "text/plain": [
       "25"
      ]
     },
     "metadata": {},
     "execution_count": 66
    }
   ],
   "source": [
    "ord('z')-ord('a')\n",
    "a b c d e f g h i j k l m n o p q r s t u v w x y z"
   ]
  },
  {
   "source": [
    "## #2. Unit 24 심사문제 5"
   ],
   "cell_type": "markdown",
   "metadata": {}
  },
  {
   "source": [
    "### 24.5 심사문제: 특정 단어 개수 세기\n",
    "- 표준 입력으로 문자열이 입력됩니다. 입력된 문자열에서 'the'의 개수를 출력하는 프로그램을 만드세요(input에서 안내 문자열은 출력하지 않아야 합니다). 단, 모든 문자가 소문자인 'the'만 찾으면 되며 'them', 'there', 'their' 등은 포함하지 않아야 합니다."
   ],
   "cell_type": "markdown",
   "metadata": {}
  },
  {
   "cell_type": "code",
   "execution_count": null,
   "metadata": {},
   "outputs": [],
   "source": [
    "# 예시)\n",
    "# 입력값\n",
    "the grown-ups' response, this time, was to advise me to lay aside my drawings of boa constrictors, whether from the inside or the outside, and devote myself instead to geography, history, arithmetic, and grammar. That is why, at the, age of six, I gave up what might have been a magnificent career as a painter. I had been disheartened by the failure of my Drawing Number One and my Drawing Number Two. Grown-ups never understand anything by themselves, and it is tiresome for children to be always and forever explaining things to the.\n",
    "# 결과:6"
   ]
  },
  {
   "cell_type": "code",
   "execution_count": 4,
   "metadata": {},
   "outputs": [
    {
     "output_type": "stream",
     "name": "stdout",
     "text": [
      "6\n"
     ]
    }
   ],
   "source": [
    "# 풀이\n",
    "a = input().split()   # 입력된 텍스트를 split을 이용해 분리하여 리스트를 할당\n",
    "n = 0\n",
    "\n",
    "for s in a:          # for 반복문을 사용해 a의 리스트 요소 값을 검증\n",
    "    if s.strip('.,') == 'the':    # 양쪽 방향으로 부가요소 '.'과 ',' 제거\n",
    "        n+=1                      # 'the'맞으면 n에 1씩 더하기\n",
    "print(n)\n"
   ]
  },
  {
   "cell_type": "code",
   "execution_count": 9,
   "metadata": {},
   "outputs": [],
   "source": [
    "# 선생님 풀이\n",
    "text='''\n",
    "the grown-ups' response, this time, was to advise me to lay aside my drawings of boa constrictors, whether from the inside or the outside, and devote myself instead to geography, history, arithmetic, and grammar. That is why, at the, age of six, I gave up what might have been a magnificent career as a painter. I had been disheartened by the failure of my Drawing Number One and my Drawing Number Two. Grown-ups never understand anything by themselves, and it is tiresome for children to be always and forever explaining things to the.\n",
    "'''"
   ]
  },
  {
   "cell_type": "code",
   "execution_count": 7,
   "metadata": {},
   "outputs": [
    {
     "output_type": "execute_result",
     "data": {
      "text/plain": [
       "'the grownups response this time was to advise me to lay aside my drawings of boa constrictors whether from the inside or the outside and devote myself instead to geography history arithmetic and grammar That is why at the age of six I gave up what might have been a magnificent career as a painter I had been disheartened by the failure of my Drawing Number One and my Drawing Number Two Grownups never understand anything by themselves and it is tiresome for children to be always and forever explaining things to the'"
      ]
     },
     "metadata": {},
     "execution_count": 7
    }
   ],
   "source": [
    "import re\n",
    "text=re.sub('[\\'.,\\n]','',text) # ' . , /n 제거\n",
    "text"
   ]
  },
  {
   "cell_type": "code",
   "execution_count": 6,
   "metadata": {},
   "outputs": [
    {
     "output_type": "execute_result",
     "data": {
      "text/plain": [
       "'the grownups response this time was to advise me to lay aside my drawings of boa constrictors whether from the inside or the outside and devote myself instead to geography history arithmetic and grammar That is why at the age of six I gave up what might have been a magnificent career as a painter I had been disheartened by the failure of my Drawing Number One and my Drawing Number Two Grownups never understand anything by themselves and it is tiresome for children to be always and forever explaining things to the'"
      ]
     },
     "metadata": {},
     "execution_count": 6
    }
   ],
   "source": [
    "import re\n",
    "text=re.sub('[^A-Za-z ]','',text)  #알파벳 소문자,대문자,띄어쓰기 아닌 것 제거\n",
    "text"
   ]
  },
  {
   "cell_type": "code",
   "execution_count": null,
   "metadata": {},
   "outputs": [],
   "source": [
    "text_list=text.lower().strip().split\n",
    "count = 0\n",
    "for word in text_list:\n",
    "    if word == 'the'\n",
    "    count += 1\n",
    "count"
   ]
  },
  {
   "cell_type": "code",
   "execution_count": 11,
   "metadata": {},
   "outputs": [
    {
     "output_type": "execute_result",
     "data": {
      "text/plain": [
       "['the',\n",
       " \"grown-ups'\",\n",
       " 'response,',\n",
       " 'this',\n",
       " 'time,',\n",
       " 'was',\n",
       " 'to',\n",
       " 'advise',\n",
       " 'me',\n",
       " 'to',\n",
       " 'lay',\n",
       " 'aside',\n",
       " 'my',\n",
       " 'drawings',\n",
       " 'of',\n",
       " 'boa',\n",
       " 'constrictors,',\n",
       " 'whether',\n",
       " 'from',\n",
       " 'the',\n",
       " 'inside',\n",
       " 'or',\n",
       " 'the',\n",
       " 'outside,',\n",
       " 'and',\n",
       " 'devote',\n",
       " 'myself',\n",
       " 'instead',\n",
       " 'to',\n",
       " 'geography,',\n",
       " 'history,',\n",
       " 'arithmetic,',\n",
       " 'and',\n",
       " 'grammar.',\n",
       " 'that',\n",
       " 'is',\n",
       " 'why,',\n",
       " 'at',\n",
       " 'the,',\n",
       " 'age',\n",
       " 'of',\n",
       " 'six,',\n",
       " 'i',\n",
       " 'gave',\n",
       " 'up',\n",
       " 'what',\n",
       " 'might',\n",
       " 'have',\n",
       " 'been',\n",
       " 'a',\n",
       " 'magnificent',\n",
       " 'career',\n",
       " 'as',\n",
       " 'a',\n",
       " 'painter.',\n",
       " 'i',\n",
       " 'had',\n",
       " 'been',\n",
       " 'disheartened',\n",
       " 'by',\n",
       " 'the',\n",
       " 'failure',\n",
       " 'of',\n",
       " 'my',\n",
       " 'drawing',\n",
       " 'number',\n",
       " 'one',\n",
       " 'and',\n",
       " 'my',\n",
       " 'drawing',\n",
       " 'number',\n",
       " 'two.',\n",
       " 'grown-ups',\n",
       " 'never',\n",
       " 'understand',\n",
       " 'anything',\n",
       " 'by',\n",
       " 'themselves,',\n",
       " 'and',\n",
       " 'it',\n",
       " 'is',\n",
       " 'tiresome',\n",
       " 'for',\n",
       " 'children',\n",
       " 'to',\n",
       " 'be',\n",
       " 'always',\n",
       " 'and',\n",
       " 'forever',\n",
       " 'explaining',\n",
       " 'things',\n",
       " 'to',\n",
       " 'the.']"
      ]
     },
     "metadata": {},
     "execution_count": 11
    }
   ],
   "source": [
    "text_list=text.lower().strip().split()\n",
    "text_list"
   ]
  },
  {
   "source": [
    "## #3. Unit 24 심사문제 6"
   ],
   "cell_type": "markdown",
   "metadata": {}
  },
  {
   "source": [
    "### 24.6 심사문제: 높은 가격순으로 출력하기"
   ],
   "cell_type": "markdown",
   "metadata": {}
  },
  {
   "source": [
    "- 표준 입력으로 물품 가격 여러 개가 문자열 한 줄로 입력되고, 각 가격은 ;(세미콜론)으로 구분되어 있습니다. 입력된 가격을 높은 가격순으로 출력하는 프로그램을 만드세요(input에서 안내 문자열은 출력하지 않아야 합니다). 이때 가격은 길이를 9로 만든 뒤 오른쪽으로 정렬하고 천단위로 ,(콤마)를 넣으세요.\n",
    "예) 입력: 51900;83000;158000;367500;250000;59200;128500;1304000\n",
    "결과: 1,304,000\n",
    "  367,500\n",
    "  250,000\n",
    "  158,000\n",
    "  128,500\n",
    "   83,000\n",
    "   59,200\n",
    "   51,900"
   ],
   "cell_type": "markdown",
   "metadata": {}
  },
  {
   "cell_type": "code",
   "execution_count": 69,
   "metadata": {},
   "outputs": [
    {
     "output_type": "stream",
     "name": "stdout",
     "text": [
      "1,304,000\n  367,500\n  250,000\n  158,000\n  128,500\n   83,000\n   59,200\n   51,900\n"
     ]
    }
   ],
   "source": [
    "# 풀이\n",
    "p = list( map(int, input().split(';')) )\n",
    "# map 객체는 sort 메서드가 없어서 정렬을 할 수가 없으므로 \n",
    "# map 객체를 list에 넣어서 리스트로 변환한 뒤 변수에 저장\n",
    "p.sort(reverse = True)         # 높은 가격순으로 정렬\n",
    "for i in p:\n",
    "    print(\"{0:>9,}\".format(i)) # 길이가 9 + 오른쪽 정렬 + 천단위 콤마 넣기"
   ]
  },
  {
   "source": [
    "## #4. Unit 12 심사문제"
   ],
   "cell_type": "markdown",
   "metadata": {}
  },
  {
   "source": [
    "### 12.5 심사문제: 딕셔너리에 게임 캐릭터 능력치 저장하기"
   ],
   "cell_type": "markdown",
   "metadata": {}
  },
  {
   "source": [
    "- 표준 입력으로 문자열 여러 개와 숫자(실수) 여러 개가 두 줄로 입력됩니다. 입력된 첫 번째 줄은 키, 두 번째 줄은 값으로 하여 딕셔너리를 생성한 뒤 딕셔너리를 출력하는 프로그램을 만드세요. input().split()의 결과를 변수 한 개에 저장하면 리스트로 저장됩니다.\n",
    "예)\n",
    "입력\n",
    "health health_regen mana mana_regen\n",
    "575.6 1.7 338.8 1.63\n",
    "결과\n",
    "{'health': 575.6, 'health_regen': 1.7, 'mana': 338.8, 'mana_regen': 1.63}"
   ],
   "cell_type": "code",
   "metadata": {},
   "execution_count": null,
   "outputs": []
  },
  {
   "cell_type": "code",
   "execution_count": 25,
   "metadata": {},
   "outputs": [
    {
     "output_type": "stream",
     "name": "stdout",
     "text": [
      "[575.6, 1.7, 338.8, 1.63]\n"
     ]
    }
   ],
   "source": [
    "#풀이\n",
    "a = input().split()\n",
    "b = list( map(float, input().split()) )\n",
    "c = dict(zip(a,b))\n",
    "print(b)"
   ]
  },
  {
   "cell_type": "code",
   "execution_count": 26,
   "metadata": {},
   "outputs": [
    {
     "output_type": "stream",
     "name": "stdout",
     "text": [
      "<class 'list'>\n"
     ]
    }
   ],
   "source": [
    "print (type(b))        #b의 type은 list 아닌데 ,,"
   ]
  },
  {
   "cell_type": "code",
   "execution_count": 24,
   "metadata": {},
   "outputs": [
    {
     "output_type": "execute_result",
     "data": {
      "text/plain": [
       "<map at 0x1d3f1264390>"
      ]
     },
     "metadata": {},
     "execution_count": 24
    }
   ],
   "source": [
    "b"
   ]
  },
  {
   "source": [
    "## #5. Unit 25 심사문제"
   ],
   "cell_type": "markdown",
   "metadata": {}
  },
  {
   "source": [
    "### 25.8 심사문제: 딕셔너리에서 특정 값 삭제하기"
   ],
   "cell_type": "markdown",
   "metadata": {}
  },
  {
   "cell_type": "code",
   "execution_count": null,
   "metadata": {},
   "outputs": [],
   "source": [
    "- 표준 입력으로 문자열 여러 개와 숫자 여러 개가 두 줄로 입력되고, 첫 번째 줄은 키, 두 번째 줄은 값으로 하여 딕셔너리를 생성합니다. 다음 코드를 완성하여 딕셔너리에서 키가 'delta'인 키-값 쌍과 값이 30인 키-값 쌍을 삭제하도록 만드세요.\n",
    "예)입력\n",
    "alpha bravo charlie delta echo foxtrot golf\n",
    "30 40 50 60 70 80 90\n",
    "결과\n",
    "{'bravo': 40, 'charlie': 50, 'echo': 70, 'foxtrot': 80, 'golf': 90}"
   ]
  },
  {
   "cell_type": "code",
   "execution_count": 59,
   "metadata": {},
   "outputs": [
    {
     "output_type": "execute_result",
     "data": {
      "text/plain": [
       "{'bravo': 40, 'charlie': 50, 'echo': 70, 'foxtrot': 80, 'golf': 90}"
      ]
     },
     "metadata": {},
     "execution_count": 59
    }
   ],
   "source": [
    "# 풀이 - 방법 1\n",
    "\n",
    "keys = input().split()\n",
    "values = list( map(int, input().split()) )\n",
    "\n",
    "x = dict( zip(keys, values) )\n",
    "y={}                           # 새로운 딕셔너리 생성\n",
    "\n",
    "x.pop('delta')                 # key가 'delta'인 키-값 쌍 삭제\n",
    "\n",
    "for key, value in x.items():    # x.items() 중에서\n",
    "    if value != 30:             # value가 30이 아닌 키-값 쌍을  \n",
    "        y[key]=value            # 딕셔너리 y에 저장하기\n",
    "y\n"
   ]
  },
  {
   "cell_type": "code",
   "execution_count": null,
   "metadata": {},
   "outputs": [],
   "source": [
    "# 풀이 - 방법 2\n",
    "x.pop('delta')\n",
    "x = {key : value for key, value in x.items() if value != 30}\n"
   ]
  },
  {
   "cell_type": "code",
   "execution_count": null,
   "metadata": {},
   "outputs": [],
   "source": [
    "# 선생님 풀이\n",
    "for key,value in x.items():\n",
    "    if value==30:\n",
    "        break\n",
    "    "
   ]
  }
 ]
}