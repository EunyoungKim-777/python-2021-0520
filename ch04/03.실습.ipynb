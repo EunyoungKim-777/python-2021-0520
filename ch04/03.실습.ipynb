{
 "metadata": {
  "language_info": {
   "codemirror_mode": {
    "name": "ipython",
    "version": 3
   },
   "file_extension": ".py",
   "mimetype": "text/x-python",
   "name": "python",
   "nbconvert_exporter": "python",
   "pygments_lexer": "ipython3",
   "version": "3.6.10"
  },
  "orig_nbformat": 2,
  "kernelspec": {
   "name": "python3610jvsc74a57bd045bb9909f4134a5c522dd73f5b26e0da33d17d4f62f0476a1f9dbaaf4e2522a5",
   "display_name": "Python 3.6.10 64-bit ('base': conda)"
  }
 },
 "nbformat": 4,
 "nbformat_minor": 2,
 "cells": [
  {
   "source": [
    "### 1. 구구단 계산기"
   ],
   "cell_type": "markdown",
   "metadata": {}
  },
  {
   "cell_type": "code",
   "execution_count": 2,
   "metadata": {},
   "outputs": [
    {
     "output_type": "stream",
     "name": "stdout",
     "text": [
      "6x1=6\n6x2=12\n6x3=18\n6x4=24\n6x5=30\n6x6=36\n6x7=42\n6x8=48\n6x9=54\n"
     ]
    }
   ],
   "source": [
    "# 구구단 6단\n",
    "n=6\n",
    "for i in range(1,10):\n",
    "    print(f'{n}x{i}={n*i}')"
   ]
  },
  {
   "source": [
    "### 2. 문자열 역순 출력"
   ],
   "cell_type": "markdown",
   "metadata": {}
  },
  {
   "cell_type": "code",
   "execution_count": 3,
   "metadata": {},
   "outputs": [
    {
     "output_type": "stream",
     "name": "stdout",
     "text": [
      "i love you uoy evol i\n"
     ]
    }
   ],
   "source": [
    "sentence=input()\n",
    "reverse=''\n",
    "for char in sentence:\n",
    "    reverse=char+reverse\n",
    "print(sentence,reverse)"
   ]
  },
  {
   "source": [
    "### 3. 십진수를 이진수로 변환"
   ],
   "cell_type": "markdown",
   "metadata": {}
  },
  {
   "cell_type": "code",
   "execution_count": 5,
   "metadata": {},
   "outputs": [
    {
     "output_type": "stream",
     "name": "stdout",
     "text": [
      "100011\n"
     ]
    }
   ],
   "source": [
    "num=int(input('숫자를입력하세요'))\n",
    "result=''\n",
    "while num>0:\n",
    "    rem=num % 2\n",
    "    num=num // 2\n",
    "    result=str(rem)+result\n",
    "print(result)"
   ]
  },
  {
   "source": [
    "### 4. 숫자 맞히기 게임"
   ],
   "cell_type": "markdown",
   "metadata": {}
  },
  {
   "cell_type": "code",
   "execution_count": null,
   "metadata": {},
   "outputs": [],
   "source": [
    "#방법1\n",
    "import random\n",
    "num=random.randint(1,100)\n",
    "print(\"숫자를 맞혀 보세요.\")\n",
    "guess=int(input('무얼까요?'))\n",
    "while(guess != num):\n",
    "    if guess > num:\n",
    "        print(\"숫자가 너무 큽니다.\")\n",
    "    else:\n",
    "        print(\"숫자가 너무 작습니다.\")\n",
    "    guess=int(input('맞혀보시게나~'))\n",
    "else: print(f'짝짝짝!정답은{guess}입니다~~!~!!!~')"
   ]
  },
  {
   "cell_type": "code",
   "execution_count": null,
   "metadata": {},
   "outputs": [],
   "source": [
    "#방법2\n",
    "while True:\n",
    "    guess=int(input('1~100사이의 정수를 맞혀보세요'))\n",
    "    if guess==num:\n",
    "        print(f'빙고.정답은{guess}')\n",
    "        break\n",
    "    if guess>num:\n",
    "        print('숫자가 넘 커요')\n",
    "    else: print ('숫자가 넘 작아요')"
   ]
  },
  {
   "source": [
    "### 5-1. 별표 그리기 "
   ],
   "cell_type": "markdown",
   "metadata": {}
  },
  {
   "cell_type": "code",
   "execution_count": 7,
   "metadata": {},
   "outputs": [
    {
     "output_type": "stream",
     "name": "stdout",
     "text": [
      "+\n++\n+++\n++++\n+++++\n"
     ]
    }
   ],
   "source": [
    "for i in range(1,6):\n",
    "    for k in range (i):\n",
    "        print('+', sep='',end='')\n",
    "    print()"
   ]
  },
  {
   "cell_type": "code",
   "execution_count": 8,
   "metadata": {},
   "outputs": [
    {
     "output_type": "stream",
     "name": "stdout",
     "text": [
      " +++++\n  ++++\n   +++\n    ++\n     +\n"
     ]
    }
   ],
   "source": [
    "for i in range(1,6):\n",
    "    for k in range (i): #blank 출력\n",
    "        print(' ', sep='',end='')\n",
    "    for k in range (6-i): #별 출력\n",
    "        print('+',sep='',end='')\n",
    "    print()"
   ]
  }
 ]
}