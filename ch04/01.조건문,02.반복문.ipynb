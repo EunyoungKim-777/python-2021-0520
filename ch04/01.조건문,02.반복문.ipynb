{
 "metadata": {
  "language_info": {
   "codemirror_mode": {
    "name": "ipython",
    "version": 3
   },
   "file_extension": ".py",
   "mimetype": "text/x-python",
   "name": "python",
   "nbconvert_exporter": "python",
   "pygments_lexer": "ipython3",
   "version": "3.6.10"
  },
  "orig_nbformat": 2,
  "kernelspec": {
   "name": "python3610jvsc74a57bd045bb9909f4134a5c522dd73f5b26e0da33d17d4f62f0476a1f9dbaaf4e2522a5",
   "display_name": "Python 3.6.10 64-bit ('base': conda)"
  }
 },
 "nbformat": 4,
 "nbformat_minor": 2,
 "cells": [
  {
   "source": [
    "# 01. 조건문"
   ],
   "cell_type": "markdown",
   "metadata": {}
  },
  {
   "source": [
    "### 1) if-else"
   ],
   "cell_type": "markdown",
   "metadata": {}
  },
  {
   "cell_type": "code",
   "execution_count": 14,
   "metadata": {},
   "outputs": [
    {
     "output_type": "stream",
     "name": "stdout",
     "text": [
      "Welcome to the Club\n"
     ]
    }
   ],
   "source": [
    "age=int(input('Tell me your age.'))\n",
    "if age<30:\n",
    "    print('Welcome to the Club')\n",
    "else:\n",
    "    print('You are not accepted')"
   ]
  },
  {
   "cell_type": "code",
   "execution_count": null,
   "metadata": {},
   "outputs": [],
   "source": [
    "age=int(input('Tell me your age.'))\n",
    "if age<15 and age <30:\n",
    "    print('Welcome to the Club')\n",
    "else:\n",
    "    print('You are not accepted')"
   ]
  },
  {
   "source": [
    "# ***"
   ],
   "cell_type": "markdown",
   "metadata": {}
  },
  {
   "source": [
    "#### 조건문의 실행문이 단문일 경우에는 인덴테이션 무시해도 무방\n"
   ],
   "cell_type": "markdown",
   "metadata": {}
  },
  {
   "cell_type": "code",
   "execution_count": null,
   "metadata": {},
   "outputs": [],
   "source": [
    "age=int(input('Tell me your age.'))\n",
    "if age<15 and age <30: print('Welcome to the Club')\n",
    "else: print('You are not accepted')"
   ]
  },
  {
   "source": [
    "#### 범위는 a < x < b 형태로도 사용가능"
   ],
   "cell_type": "markdown",
   "metadata": {}
  },
  {
   "cell_type": "code",
   "execution_count": null,
   "metadata": {},
   "outputs": [],
   "source": [
    "age=int(input('Tell me your age.'))\n",
    "if 15 < age < 30: print('Welcome to the Club')\n",
    "else: print('You are not accepted')"
   ]
  },
  {
   "source": [
    "#### -3항 연산자\n"
   ],
   "cell_type": "markdown",
   "metadata": {}
  },
  {
   "cell_type": "code",
   "execution_count": 15,
   "metadata": {},
   "outputs": [
    {
     "output_type": "stream",
     "name": "stdout",
     "text": [
      "Welcome to the Club\n"
     ]
    }
   ],
   "source": [
    "age=int(input('Tell me your age.'))\n",
    "msg= 'Welcome to the Club' if 15 < age < 30 else 'You are not accepted'\n",
    "print(msg)\n"
   ]
  },
  {
   "source": [
    "#### -조건의 판단"
   ],
   "cell_type": "markdown",
   "metadata": {}
  },
  {
   "cell_type": "code",
   "execution_count": 17,
   "metadata": {},
   "outputs": [
    {
     "output_type": "execute_result",
     "data": {
      "text/plain": [
       "True"
      ]
     },
     "metadata": {},
     "execution_count": 17
    }
   ],
   "source": [
    "# or 앞쪽의 값이 True면 or 이후의 값은 계산하지 않음\n",
    "3==3 or 99998"
   ]
  },
  {
   "cell_type": "code",
   "execution_count": 16,
   "metadata": {},
   "outputs": [
    {
     "output_type": "execute_result",
     "data": {
      "text/plain": [
       "99998"
      ]
     },
     "metadata": {},
     "execution_count": 16
    }
   ],
   "source": [
    "# or 앞쪽의 값이 False이면 or 연산의 값은 or 무조건 이후의 값\n",
    "3==4 or 99998"
   ]
  },
  {
   "source": [
    "### 2) if - elif - else"
   ],
   "cell_type": "markdown",
   "metadata": {}
  },
  {
   "cell_type": "code",
   "execution_count": 19,
   "metadata": {},
   "outputs": [
    {
     "output_type": "stream",
     "name": "stdout",
     "text": [
      "D\n"
     ]
    }
   ],
   "source": [
    "# 조건의 포함 범위가 갈수록 커지는 방향으로 작성하면 안됨\n",
    "score=98\n",
    "if score >=90:\n",
    "    grade='A'\n",
    "if score >=80:\n",
    "    grade='B'\n",
    "if score >=70:\n",
    "    grade='C'\n",
    "if score >=60:\n",
    "    grade='D'\n",
    "if score <60:\n",
    "    grade='F'\n",
    "print(grade)"
   ]
  },
  {
   "cell_type": "code",
   "execution_count": 21,
   "metadata": {},
   "outputs": [
    {
     "output_type": "stream",
     "name": "stdout",
     "text": [
      "A\n"
     ]
    }
   ],
   "source": [
    "# 해결책 1 - 조건의 범위가 갈수록 작아지는 방향으로 작성\n",
    "score=98\n",
    "if score <60: grade='F'\n",
    "if score >=60: grade='D'\n",
    "if score >=70: grade='C'\n",
    "if score >=80: grade='B'\n",
    "if score >=90: grade='A'\n",
    "print(grade)"
   ]
  },
  {
   "cell_type": "code",
   "execution_count": 22,
   "metadata": {},
   "outputs": [
    {
     "output_type": "stream",
     "name": "stdout",
     "text": [
      "A\n"
     ]
    }
   ],
   "source": [
    "# 해결책 2 - if - elif - else\n",
    "score=98\n",
    "if score >=90:\n",
    "    grade='A'\n",
    "elif score >=80:\n",
    "    grade='B'\n",
    "elif score >=70:\n",
    "    grade='C'\n",
    "elif score >=60:\n",
    "    grade='D'\n",
    "else:\n",
    "    grade='F'\n",
    "print(grade)"
   ]
  },
  {
   "cell_type": "code",
   "execution_count": null,
   "metadata": {},
   "outputs": [],
   "source": [
    "# 해결책 3 - 3항 연산자\n",
    "# grade=값 if 조건1 else 값2\n",
    "score = 78\n",
    "grade = 'A' if score>=90 else \\\n",
    "            'B' if score >= 80 else \\\n",
    "                'C' if score>=70 else \\\n",
    "                    'D' if score>=60 else 'F' "
   ]
  },
  {
   "source": [
    "### 3) if 응용"
   ],
   "cell_type": "markdown",
   "metadata": {}
  },
  {
   "cell_type": "code",
   "execution_count": 23,
   "metadata": {},
   "outputs": [
    {
     "output_type": "execute_result",
     "data": {
      "text/plain": [
       "datetime.date(2021, 5, 24)"
      ]
     },
     "metadata": {},
     "execution_count": 23
    }
   ],
   "source": [
    "from datetime import date\n",
    "date.today()\n"
   ]
  },
  {
   "cell_type": "code",
   "execution_count": 27,
   "metadata": {},
   "outputs": [
    {
     "output_type": "execute_result",
     "data": {
      "text/plain": [
       "(2021, 5, 24)"
      ]
     },
     "metadata": {},
     "execution_count": 27
    }
   ],
   "source": [
    "today=date.today()\n",
    "today.year,today.month, today.day"
   ]
  },
  {
   "cell_type": "code",
   "execution_count": 29,
   "metadata": {},
   "outputs": [
    {
     "output_type": "stream",
     "name": "stdout",
     "text": [
      "대학생\n"
     ]
    }
   ],
   "source": [
    "birth_year=int(input('태어난 연도를 입력하세요.'))\n",
    "age=today.year-birth_year+1\n",
    "if 20 <= age <= 26: print('대학생')\n",
    "elif 17 <= age < 20:print('고등학생')\n",
    "elif 14 <= age < 17:print('중학생')\n",
    "elif 8 <= age < 14:print('초등학생')\n",
    "else: print('학생이 아님')"
   ]
  },
  {
   "source": [
    "# 02. 반복문"
   ],
   "cell_type": "markdown",
   "metadata": {}
  },
  {
   "cell_type": "code",
   "execution_count": null,
   "metadata": {},
   "outputs": [],
   "source": [
    "#### Fizz Buzz\n",
    "#### 3의배수 Fizz, 5의배수 Buzz, 15의배수 FizzBuzz, 아니면 숫자\n",
    "\n",
    "for i in range(1,101):\n",
    "    if i % 3 == 0 and i % 5 == 0: print ('FizzBuzz')\n",
    "    elif i % 3 == 0: print ('Fizz')\n",
    "    elif i % 5 == 0: print ('Buzz')\n",
    "    else: print (i)"
   ]
  },
  {
   "cell_type": "code",
   "execution_count": null,
   "metadata": {},
   "outputs": [],
   "source": [
    "for i in range(1,101):\n",
    "    print('Fizz'*(i%3==0) + 'Buzz'*(i%5==0) or i)"
   ]
  },
  {
   "cell_type": "code",
   "execution_count": 30,
   "metadata": {},
   "outputs": [
    {
     "output_type": "stream",
     "name": "stdout",
     "text": [
      "Hello World.\nHello World.\nHello World.\nHello World.\nHello World.\n"
     ]
    }
   ],
   "source": [
    "for i in range(5):\n",
    "    print('Hello World.')"
   ]
  },
  {
   "cell_type": "code",
   "execution_count": 31,
   "metadata": {},
   "outputs": [
    {
     "output_type": "stream",
     "name": "stdout",
     "text": [
      "0\n1\n2\n3\n4\n"
     ]
    }
   ],
   "source": [
    "for i in range(5):\n",
    "    print(i)"
   ]
  },
  {
   "cell_type": "code",
   "execution_count": 33,
   "metadata": {},
   "outputs": [
    {
     "output_type": "stream",
     "name": "stdout",
     "text": [
      "1\n3\n5\n7\n9\n"
     ]
    }
   ],
   "source": [
    "#리스트\n",
    "for i in [1,3,5,7,9]:\n",
    "    print (i)\n"
   ]
  },
  {
   "cell_type": "code",
   "execution_count": null,
   "metadata": {},
   "outputs": [],
   "source": [
    "#튜플\n",
    "for i in (1,3,5,7,9)"
   ]
  },
  {
   "cell_type": "code",
   "execution_count": 34,
   "metadata": {},
   "outputs": [
    {
     "output_type": "stream",
     "name": "stdout",
     "text": [
      "H\ne\nl\nl\no\n"
     ]
    }
   ],
   "source": [
    "#문자열\n",
    "for char in 'Hello':\n",
    "    print(char)"
   ]
  },
  {
   "cell_type": "code",
   "execution_count": 36,
   "metadata": {},
   "outputs": [
    {
     "output_type": "stream",
     "name": "stdout",
     "text": [
      "I\nlove\nyou.\n"
     ]
    }
   ],
   "source": [
    "#리스트 결과가 나오는 구문\n",
    "for s in 'I love you.'.split():\n",
    "    print (s)"
   ]
  },
  {
   "source": [
    "## while문"
   ],
   "cell_type": "markdown",
   "metadata": {}
  },
  {
   "cell_type": "code",
   "execution_count": 1,
   "metadata": {},
   "outputs": [
    {
     "output_type": "stream",
     "name": "stdout",
     "text": [
      "135\n"
     ]
    }
   ],
   "source": [
    "sum=0\n",
    "while True:\n",
    "    num=int(input('숫자를입력하세요'))\n",
    "    if num==0:break\n",
    "    sum+=num\n",
    "print(sum)"
   ]
  }
 ]
}