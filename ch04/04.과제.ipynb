{
 "metadata": {
  "language_info": {
   "codemirror_mode": {
    "name": "ipython",
    "version": 3
   },
   "file_extension": ".py",
   "mimetype": "text/x-python",
   "name": "python",
   "nbconvert_exporter": "python",
   "pygments_lexer": "ipython3",
   "version": "3.6.10"
  },
  "orig_nbformat": 2,
  "kernelspec": {
   "name": "python3610jvsc74a57bd045bb9909f4134a5c522dd73f5b26e0da33d17d4f62f0476a1f9dbaaf4e2522a5",
   "display_name": "Python 3.6.10 64-bit ('base': conda)"
  }
 },
 "nbformat": 4,
 "nbformat_minor": 2,
 "cells": [
  {
   "source": [
    "## 1. 조건문"
   ],
   "cell_type": "markdown",
   "metadata": {}
  },
  {
   "source": [
    "### 1. 연도를 입력으로 받아 윤년인지 아닌지를 출력하는 프로그램을 작성하시오.윤년은 연도가 4의 배수이면서, 100의 배수가 아닐 때 또는 400의 배수일 때이다. 예를들어, 2012년은 4의 배수라서 윤년이지만, 1900년은 4의 배수이지만, 100의 배수이기 때문에 윤년이 아니다. 하지만, 2000년은 400의 배수이기 때문에 윤년이다.)\n"
   ],
   "cell_type": "markdown",
   "metadata": {}
  },
  {
   "cell_type": "code",
   "execution_count": 2,
   "metadata": {},
   "outputs": [
    {
     "output_type": "stream",
     "name": "stdout",
     "text": [
      "2012년은 윤년입니다.\n"
     ]
    }
   ],
   "source": [
    "year=int(input(\"연도를 입력하세요:\"))\n",
    "if( ((year%4==0) and (year%100!=0)) or (year%400==0) ):\n",
    "    print(\"%d년은 윤년입니다.\" %year)\n",
    "else:\n",
    "    print(\"%d년은 윤년이 아닙니다.\" %year)"
   ]
  },
  {
   "source": [
    "### 2. 본인의 생일을 1998 12 15 과 같이 년 월 일로 입력받아 오늘 날짜의 만 나이를 구하는 프로그램을 작성하시오.\n"
   ],
   "cell_type": "markdown",
   "metadata": {}
  },
  {
   "cell_type": "code",
   "execution_count": 48,
   "metadata": {},
   "outputs": [
    {
     "output_type": "stream",
     "name": "stdout",
     "text": [
      "만 나이는 24세입니다.\n"
     ]
    }
   ],
   "source": [
    "from datetime import date\n",
    "today=date.today()\n",
    "\n",
    "year = int(input(\"태어난 년도를 4자리로 입력하세요: \"))\n",
    "month = int(input(\"태어난 월을 입력하세요: \"))\n",
    "date =  int(input(\"태어난 일을 입력하세요: \"))\n",
    "\n",
    "if int(today.month) > month:\n",
    "    age = int(today.year) - year\n",
    "elif int(today.month) == month and int(today.day) >= day:\n",
    "     age = int(today.year) - year\n",
    "else: \n",
    "    age = int(today.year)-year-1\n",
    "\n",
    "print(\"만 나이는 %d세입니다.\" %age)"
   ]
  },
  {
   "cell_type": "code",
   "execution_count": null,
   "metadata": {},
   "outputs": [],
   "source": [
    "#다른방법\n",
    "year,month,day=map(int,input('생일'),split())\n",
    "year,month,day"
   ]
  },
  {
   "source": [
    "### 3. 세 자연수 a, b, c 가 피타고라스 정리 a^2 + b^2 = c^2 를 만족하면 피타고라스 수라고 부른다. (여기서 a < b < c 이고 a + b > c) 예를 들면, 32 + 42 = 9 + 16 = 25 = 52 이므로 3, 4, 5는 피타고라스 수입니다. a + b + c = 1000 인 피타고라스 수를 구하시오. (답은 한가지 뿐이다.)\n"
   ],
   "cell_type": "markdown",
   "metadata": {}
  },
  {
   "cell_type": "code",
   "execution_count": 22,
   "metadata": {},
   "outputs": [
    {
     "output_type": "stream",
     "name": "stdout",
     "text": [
      "200 375 425\n"
     ]
    }
   ],
   "source": [
    "for a in range(1,1001):\n",
    "    for b in range(1,1001):\n",
    "        c=1000-a-b\n",
    "        if a*a+b*b==c*c and a<b<c and a+b>c:\n",
    "            print(a,b,c)"
   ]
  },
  {
   "source": [
    "## 2. 반복문"
   ],
   "cell_type": "markdown",
   "metadata": {}
  },
  {
   "source": [
    "### 1. (별 그리기) 5이상 9이하의 홀수를 입력받아 다이아몬드 형태의 별을 출력하는 프로그램을 작성하시오.\n",
    "\n"
   ],
   "cell_type": "markdown",
   "metadata": {}
  },
  {
   "cell_type": "code",
   "execution_count": 53,
   "metadata": {},
   "outputs": [
    {
     "output_type": "stream",
     "name": "stdout",
     "text": [
      "    +\n   +++\n  +++++\n +++++++\n  +++++\n   +++\n    +\n"
     ]
    }
   ],
   "source": [
    "num = int(input('5이상 9이하의 홀수를 입력하세요: '))\n",
    "\n",
    "for i in range(1, num+1, 2):    \n",
    "    blank = ' '* ((num-i)//2)  \n",
    "    symbol = '+' * i \n",
    "    print(blank, symbol)\n",
    "\n",
    "for i in range(num-2, 0, -2):  \n",
    "    blank = ' '* ((num-i)//2)\n",
    "    symbol = '+' * i\n",
    "    print(blank, symbol)"
   ]
  },
  {
   "cell_type": "code",
   "execution_count": null,
   "metadata": {},
   "outputs": [],
   "source": [
    "#i=5일 때\n",
    "#i 빈칸 *\n",
    "#1   2  1\n",
    "#2   1  3 \n",
    "#3   0  5\n",
    "#4   1  3\n",
    "#5   2  1"
   ]
  },
  {
   "source": [
    "### 2. 디지털 시계에 하루동안(00:00~23:59) 3이 표시되는 시간을 초로 환산하면 총 몇 초(second) 일까요?\n",
    "### - 디지털 시계는 하루동안 다음과 같이 시:분(00:00~23:59)으로 표시됨. \n",
    "### 00:00 (60초간 표시) 00:01 \t…23:59\n"
   ],
   "cell_type": "markdown",
   "metadata": {}
  },
  {
   "cell_type": "code",
   "execution_count": 23,
   "metadata": {},
   "outputs": [
    {
     "output_type": "stream",
     "name": "stdout",
     "text": [
      "29700\n"
     ]
    }
   ],
   "source": [
    "hour= 60*60*3  #(1) 시에 표시된 것: 03, 13, 23 시 각 1시간씩\n",
    "\n",
    "minute= 60*15*21 #(2) 분에 표시된 것: 3, 13, 23, 30~39, 43, 53분 각 1분간 표시됨. 00부터 23까지 총 24개의 시간 표시 중에서 (1)에서 계산한 3개의 시는 제외하고 21번 반복. \n",
    "total=hour+minute\n",
    "print(total)"
   ]
  },
  {
   "source": [
    "### 3. 1~1000에서 각 숫자의 개수를 구하시오.\n",
    "### - 예로 10 ~ 15 까지의 각 숫자의 개수를 구해보자.\n",
    "### 10 = 1,0   11 = 1,1   12 = 1,2   13 = 1,3   14 = 1,4   15 = 1,5\n",
    "### 그러므로 이 경우의 답은 0:1개, 1:7개, 2:1개, 3:1개, 4:1개, 5:1개\n"
   ],
   "cell_type": "markdown",
   "metadata": {}
  },
  {
   "cell_type": "code",
   "execution_count": 46,
   "metadata": {},
   "outputs": [
    {
     "output_type": "stream",
     "name": "stdout",
     "text": [
      "0 : 192 개\n1 : 301 개\n2 : 300 개\n3 : 300 개\n4 : 300 개\n5 : 300 개\n6 : 300 개\n7 : 300 개\n8 : 300 개\n9 : 300 개\n"
     ]
    }
   ],
   "source": [
    "counts=[0,0,0,0,0,0,0,0,0,0] # 리스트 생성\n",
    "for i in range(1,1001): # 0~1000까지 반복\n",
    "  for k in (str(i)): # 각 숫자를 배열로 취급하기 위해 str 사용\n",
    "    counts[int(k)]+=1 # 다시 int로 해서 counts에 넣음\n",
    "\n",
    "for i in range(10): # 0~9까지 각 숫자 개수 출력\n",
    "  print(i,\":\",counts[i],\"개\")"
   ]
  },
  {
   "source": [
    "### 4. 자기 자신을 제외한 모든 양의 약수들의 합이 자기 자신이 되는 자연수를 완전수라고 한다. 예를 들면, 6과 28은 완전수이다. 6=1+2+3  (1,2,3은 각각 6의 약수) 28=1+2+4+7+14   (1,2,4,7,14는 각각 28의 약수) 입력으로 자연수 N을 받고, 출력으로 N 이하의 모든 완전수를 출력하는 코드를 작성하시오. 10000이하에서 4개 찾으시오\n"
   ],
   "cell_type": "markdown",
   "metadata": {}
  },
  {
   "cell_type": "code",
   "execution_count": 49,
   "metadata": {},
   "outputs": [
    {
     "output_type": "stream",
     "name": "stdout",
     "text": [
      "[6, 28, 496, 8128]\n"
     ]
    }
   ],
   "source": [
    "N=int(input('숫자를 입력하세요:'))\n",
    "result = []   # 완전수 리스트\n",
    "sum = 0\n",
    "for i in range(1, N+1): # 1부터 N까지 반복\n",
    "    for j in range(1, i): # 1부터 i-1까지 반복\n",
    "        if i%j==0:        # 자기 자신을 제외한 i의 약수 구하기\n",
    "            sum += j     # 약수들의 합 구하기\n",
    "\n",
    "    if i == sum: \n",
    "        result.append(i)\n",
    "\n",
    "print(result)\n",
    "\n"
   ]
  },
  {
   "source": [
    "### 5. 1부터 10까지 자연수를 각각 제곱해 더하면 다음과 같다 (제곱의 합). \t\t1^2 + 2^2 + ... + 10^2 = 385, 1부터 10을 먼저 더한 다음에 그 결과를 제곱하면 다음과 같습니다 (합의 제곱).\t(1 + 2 + ... + 10)^2 = 552 = 3025. 따라서 1부터 10까지 자연수에 대해 \"합의 제곱\"과 \"제곱의 합\"의 차이는 3025 - 385 = 2640 이 된다. 입력으로 자연수 N을 받아, 1부터 N까지 자연수에 대해 \"합의 제곱\"과 \"제곱의 합\"의 차이는 얼마인가?\n"
   ],
   "cell_type": "markdown",
   "metadata": {}
  },
  {
   "cell_type": "code",
   "execution_count": 43,
   "metadata": {},
   "outputs": [
    {
     "output_type": "stream",
     "name": "stdout",
     "text": [
      "2640\n"
     ]
    }
   ],
   "source": [
    "num = int(input('숫자를 입력하세요:'))\n",
    "sum1 = 0\n",
    "for i in range(1,num+1):\n",
    "    a = i*i\n",
    "    sum1 += a\n",
    "\n",
    "sum2 = 0\n",
    "for i in range(1,num+1):\n",
    "    sum2 += i\n",
    "\n",
    "result = sum2*sum2 - sum1\n",
    "print(result)\n",
    "\n"
   ]
  }
 ]
}