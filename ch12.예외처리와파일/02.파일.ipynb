{
 "metadata": {
  "language_info": {
   "codemirror_mode": {
    "name": "ipython",
    "version": 3
   },
   "file_extension": ".py",
   "mimetype": "text/x-python",
   "name": "python",
   "nbconvert_exporter": "python",
   "pygments_lexer": "ipython3",
   "version": "3.6.10"
  },
  "orig_nbformat": 2,
  "kernelspec": {
   "name": "python3610jvsc74a57bd045bb9909f4134a5c522dd73f5b26e0da33d17d4f62f0476a1f9dbaaf4e2522a5",
   "display_name": "Python 3.6.10 64-bit ('base': conda)"
  }
 },
 "nbformat": 4,
 "nbformat_minor": 2,
 "cells": [
  {
   "source": [
    "# 파일 다루기"
   ],
   "cell_type": "markdown",
   "metadata": {}
  },
  {
   "source": [
    "- 텍스트 파일 읽기"
   ],
   "cell_type": "markdown",
   "metadata": {}
  },
  {
   "cell_type": "code",
   "execution_count": 1,
   "metadata": {},
   "outputs": [
    {
     "output_type": "stream",
     "name": "stdout",
     "text": [
      "I Have a Dream, a song to sing\nTo help me cope, with anything\nIf you see the wonder, of a fairy tale\nYou can take the future, even if you fail\nI believe in angels\nSomething good in everything I see\nI believe in angels\nWhen I know the time is right for me\nI'll cross the stream, I Have a Dream\n"
     ]
    }
   ],
   "source": [
    "f = open('dream.txt','r')\n",
    "contents = f.read()\n",
    "print(contents)\n",
    "f.close()"
   ]
  },
  {
   "cell_type": "code",
   "execution_count": 5,
   "metadata": {},
   "outputs": [
    {
     "output_type": "stream",
     "name": "stdout",
     "text": [
      "<class 'str'>\nI Have a Dream, a song to sing\nTo help me cope, with anything\nIf you see the wonder, of a fairy tale\nYou can take the future, even if you fail\nI believe in angels\nSomething good in everything I see\nI believe in angels\nWhen I know the time is right for me\nI'll cross the stream, I Have a Dream\n"
     ]
    }
   ],
   "source": [
    "with open ('dream.txt','r') as my_file:\n",
    "    contents = my_file.read()\n",
    "    print(type(contents))\n",
    "    print(contents)"
   ]
  },
  {
   "cell_type": "code",
   "execution_count": 29,
   "metadata": {},
   "outputs": [
    {
     "output_type": "stream",
     "name": "stdout",
     "text": [
      "<class 'list'>\n['I Have a Dream, a song to sing\\n', 'To help me cope, with anything\\n', 'If you see the wonder, of a fairy tale\\n', 'You can take the future, even if you fail\\n', 'I believe in angels\\n', 'Something good in everything I see\\n', 'I believe in angels\\n', 'When I know the time is right for me\\n', \"I'll cross the stream, I Have a Dream\"]\n"
     ]
    }
   ],
   "source": [
    "# 한 줄씩 읽어서 리스트로 반환 - readlines\n",
    "with open ('dream.txt','r') as my_file:\n",
    "    contents_list = my_file.readlines()\n",
    "    print(type(contents_list))\n",
    "    print(contents_list)"
   ]
  },
  {
   "cell_type": "code",
   "execution_count": 7,
   "metadata": {},
   "outputs": [
    {
     "output_type": "execute_result",
     "data": {
      "text/plain": [
       "'I Have a Dream, a song to sing\\n'"
      ]
     },
     "metadata": {},
     "execution_count": 7
    }
   ],
   "source": [
    "contents_list[0]"
   ]
  },
  {
   "cell_type": "code",
   "execution_count": 13,
   "metadata": {},
   "outputs": [
    {
     "output_type": "stream",
     "name": "stdout",
     "text": [
      "1 === I Have a Dream, a song to sing\n2 === To help me cope, with anything\n3 === If you see the wonder, of a fairy tale\n4 === You can take the future, even if you fail\n5 === I believe in angels\n6 === Something good in everything I see\n7 === I believe in angels\n8 === When I know the time is right for me\n9 === I'll cross the stream, I Have a Dream\n"
     ]
    }
   ],
   "source": [
    "# 한 줄 단위로 읽기 - readline()\n",
    "with open ('dream.txt','r') as my_file:\n",
    "    number = 1\n",
    "    while True:\n",
    "        line = my_file.readline()\n",
    "        if not line:   # 마지막을 따지는 조건\n",
    "            break\n",
    "        print (number, '===', line.replace('\\n',''))\n",
    "        number += 1\n",
    "        \n",
    "        "
   ]
  },
  {
   "source": [
    "- 파일 쓰기"
   ],
   "cell_type": "markdown",
   "metadata": {}
  },
  {
   "cell_type": "code",
   "execution_count": 15,
   "metadata": {},
   "outputs": [],
   "source": [
    "with open('new_file.txt','w') as f:\n",
    "    f.write('A quick brown fox jumps over the lazy dog.')"
   ]
  },
  {
   "cell_type": "code",
   "execution_count": 19,
   "metadata": {},
   "outputs": [],
   "source": [
    "# write mode 에서는 파일을 overwrite 한다.\n",
    "with open('new_file.txt', 'w', encoding='utf8') as f:\n",
    "    f.write('새로운 글을 씁니다.')"
   ]
  },
  {
   "cell_type": "code",
   "execution_count": 20,
   "metadata": {},
   "outputs": [],
   "source": [
    "with open('new_file.txt', 'a', encoding='utf8') as f:\n",
    "    f.write('새로운 글을 씁니다.')"
   ]
  },
  {
   "cell_type": "code",
   "execution_count": 21,
   "metadata": {},
   "outputs": [],
   "source": [
    "with open('new_file.txt', 'a', encoding='utf8') as f:\n",
    "    f.write('A quick brown fox jumps over the lazy dog.\\n')\n",
    "    f.write('새로운 글을 씁니다.\\n')"
   ]
  },
  {
   "source": [
    "- 디렉토리 만들기"
   ],
   "cell_type": "markdown",
   "metadata": {}
  },
  {
   "cell_type": "code",
   "execution_count": 22,
   "metadata": {},
   "outputs": [],
   "source": [
    "import os\n",
    "os.mkdir('subdir')"
   ]
  },
  {
   "cell_type": "code",
   "execution_count": 23,
   "metadata": {},
   "outputs": [
    {
     "output_type": "error",
     "ename": "FileExistsError",
     "evalue": "[WinError 183] 파일이 이미 있으므로 만들 수 없습니다: 'subdir'",
     "traceback": [
      "\u001b[1;31m---------------------------------------------------------------------------\u001b[0m",
      "\u001b[1;31mFileExistsError\u001b[0m                           Traceback (most recent call last)",
      "\u001b[1;32m<ipython-input-23-2c69015a6ede>\u001b[0m in \u001b[0;36m<module>\u001b[1;34m()\u001b[0m\n\u001b[1;32m----> 1\u001b[1;33m \u001b[0mos\u001b[0m\u001b[1;33m.\u001b[0m\u001b[0mmkdir\u001b[0m\u001b[1;33m(\u001b[0m\u001b[1;34m'subdir'\u001b[0m\u001b[1;33m)\u001b[0m\u001b[1;33m\u001b[0m\u001b[1;33m\u001b[0m\u001b[0m\n\u001b[0m",
      "\u001b[1;31mFileExistsError\u001b[0m: [WinError 183] 파일이 이미 있으므로 만들 수 없습니다: 'subdir'"
     ]
    }
   ],
   "source": [
    "os.mkdir('subdir')"
   ]
  },
  {
   "cell_type": "code",
   "execution_count": 24,
   "metadata": {},
   "outputs": [
    {
     "output_type": "execute_result",
     "data": {
      "text/plain": [
       "True"
      ]
     },
     "metadata": {},
     "execution_count": 24
    }
   ],
   "source": [
    "os.path.exists('subdir')\n"
   ]
  },
  {
   "cell_type": "code",
   "execution_count": 26,
   "metadata": {},
   "outputs": [
    {
     "output_type": "execute_result",
     "data": {
      "text/plain": [
       "False"
      ]
     },
     "metadata": {},
     "execution_count": 26
    }
   ],
   "source": [
    "not os.path.exists('subdir')"
   ]
  },
  {
   "cell_type": "code",
   "execution_count": 25,
   "metadata": {},
   "outputs": [],
   "source": [
    "if not os.path.exists('subdir'):\n",
    "    os.mkdir('subdir')"
   ]
  },
  {
   "source": [
    "- dream.txt의 홀수번째 라인을 dreams_odd.txt 에 쓰기\n"
   ],
   "cell_type": "markdown",
   "metadata": {}
  },
  {
   "cell_type": "code",
   "execution_count": 36,
   "metadata": {},
   "outputs": [],
   "source": [
    "with open('dream.txt','r') as rf:\n",
    "    lines = rf.readlines()\n",
    "    \n",
    "if not os.path.exists('subdir'):\n",
    "    os.mkdir('susbdir')\n",
    "\n",
    "with open('subdir/dream_odd.txt','w') as wf:\n",
    "    for index, line in enumerate(lines):\n",
    "        if index % 2 == 0:\n",
    "            wf.write(line)\n",
    "\n",
    "\n",
    "#lines[0::2]"
   ]
  },
  {
   "source": [
    "- binary data - pickle 모듈 활용"
   ],
   "cell_type": "markdown",
   "metadata": {}
  },
  {
   "cell_type": "code",
   "execution_count": 38,
   "metadata": {},
   "outputs": [],
   "source": [
    "test_list = [1, True, 3.14, 'String']"
   ]
  },
  {
   "cell_type": "code",
   "execution_count": 39,
   "metadata": {},
   "outputs": [],
   "source": [
    "import pickle\n",
    "with open('list.pickle','wb') as bf:\n",
    "    pickle.dump(test_list, bf)"
   ]
  },
  {
   "cell_type": "code",
   "execution_count": 40,
   "metadata": {},
   "outputs": [
    {
     "output_type": "execute_result",
     "data": {
      "text/plain": [
       "[1, True, 3.14, 'String']"
      ]
     },
     "metadata": {},
     "execution_count": 40
    }
   ],
   "source": [
    "with open('list.pickle','rb') as bf:\n",
    "    x = pickle.load(bf)\n",
    "x"
   ]
  }
 ]
}