{
 "metadata": {
  "language_info": {
   "codemirror_mode": {
    "name": "ipython",
    "version": 3
   },
   "file_extension": ".py",
   "mimetype": "text/x-python",
   "name": "python",
   "nbconvert_exporter": "python",
   "pygments_lexer": "ipython3",
   "version": "3.6.10"
  },
  "orig_nbformat": 2,
  "kernelspec": {
   "name": "python3610jvsc74a57bd045bb9909f4134a5c522dd73f5b26e0da33d17d4f62f0476a1f9dbaaf4e2522a5",
   "display_name": "Python 3.6.10 64-bit ('base': conda)"
  }
 },
 "nbformat": 4,
 "nbformat_minor": 2,
 "cells": [
  {
   "source": [
    "# 11장. 모듈과 패키지"
   ],
   "cell_type": "markdown",
   "metadata": {}
  },
  {
   "source": [
    "### - 모듈 만들기"
   ],
   "cell_type": "markdown",
   "metadata": {}
  },
  {
   "cell_type": "code",
   "execution_count": null,
   "metadata": {},
   "outputs": [],
   "source": [
    "def convert_c2f(celcius_value):\n",
    "    return celcius_value * 9. / 5 + 32"
   ]
  },
  {
   "cell_type": "code",
   "execution_count": null,
   "metadata": {},
   "outputs": [],
   "source": [
    "celcius = float(input('섭씨온도'))\n",
    "fahrenheit = convert_c2f(celcius)\n",
    "print(f'섭씨 온도: {celcius:.1f}, 화씨 온도: {fahrenheit:.1f}')\n"
   ]
  },
  {
   "cell_type": "code",
   "execution_count": 1,
   "metadata": {},
   "outputs": [
    {
     "output_type": "stream",
     "name": "stdout",
     "text": [
      "섭씨 온도: 17.0, 화씨 온도: 62.6\n"
     ]
    }
   ],
   "source": [
    "import module1\n",
    "\n",
    "celcius = float(input('섭씨온도'))\n",
    "fahrenheit = module1.convert_c2f_m(celcius)\n",
    "print(f'섭씨 온도: {celcius:.1f}, 화씨 온도: {fahrenheit:.1f}')"
   ]
  },
  {
   "cell_type": "code",
   "execution_count": 2,
   "metadata": {},
   "outputs": [
    {
     "output_type": "stream",
     "name": "stdout",
     "text": [
      "섭씨 온도: 17.0, 화씨 온도: 62.6\n"
     ]
    }
   ],
   "source": [
    "import module1 as m1     #as- alias의 축약 명칭\n",
    "\n",
    "celcius = float(input('섭씨온도'))\n",
    "fahrenheit = m1.convert_c2f_m(celcius)\n",
    "print(f'섭씨 온도: {celcius:.1f}, 화씨 온도: {fahrenheit:.1f}')"
   ]
  },
  {
   "cell_type": "code",
   "execution_count": 3,
   "metadata": {},
   "outputs": [
    {
     "output_type": "stream",
     "name": "stdout",
     "text": [
      "섭씨 온도: 17.0, 화씨 온도: 62.6\n"
     ]
    }
   ],
   "source": [
    "from module1 import convert_c2f_m\n",
    "\n",
    "celcius = float(input('섭씨온도'))\n",
    "fahrenheit = convert_c2f_m(celcius)\n",
    "print(f'섭씨 온도: {celcius:.1f}, 화씨 온도: {fahrenheit:.1f}')"
   ]
  },
  {
   "cell_type": "code",
   "execution_count": 1,
   "metadata": {},
   "outputs": [
    {
     "output_type": "stream",
     "name": "stdout",
     "text": [
      "화씨 온도: 100.0, 섭씨 온도: 37.8\n"
     ]
    }
   ],
   "source": [
    "from module1 import *    # 모듈에 있는 함수 전부 다 쓰겠음\n",
    "\n",
    "fahrenheit = float(input('화씨온도'))\n",
    "celcius = convert_f2c_m(fahrenheit)\n",
    "print(f'화씨 온도: {fahrenheit:.1f}, 섭씨 온도: {celcius:.1f}')"
   ]
  },
  {
   "cell_type": "code",
   "execution_count": 8,
   "metadata": {},
   "outputs": [
    {
     "output_type": "execute_result",
     "data": {
      "text/plain": [
       "37.77777777777778"
      ]
     },
     "metadata": {},
     "execution_count": 8
    }
   ],
   "source": [
    "import module.module1 as mm1\n",
    "mm1.convert_f2c_m(100.)"
   ]
  },
  {
   "source": [
    "### - 내장 모듈"
   ],
   "cell_type": "markdown",
   "metadata": {}
  },
  {
   "cell_type": "code",
   "execution_count": 13,
   "metadata": {},
   "outputs": [
    {
     "output_type": "execute_result",
     "data": {
      "text/plain": [
       "(0.8363375023320742, 180)"
      ]
     },
     "metadata": {},
     "execution_count": 13
    }
   ],
   "source": [
    "import random\n",
    "random.seed(2021)\n",
    "random.random(), random.randint(100,200)"
   ]
  }
 ]
}